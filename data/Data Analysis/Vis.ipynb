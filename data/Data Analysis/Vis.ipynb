{
 "cells": [
  {
   "cell_type": "code",
   "execution_count": null,
   "metadata": {
    "pycharm": {
     "name": "#%%\n"
    }
   },
   "outputs": [],
   "source": [
    "import pandas as pd\n",
    "import numpy as np\n",
    "import json\n",
    "import sys\n",
    "from yahoo_oauth import OAuth2\n",
    "from json import dumps\n",
    "from pandas.io.json import json_normalize\n",
    "import seaborn as sns\n",
    "import matplotlib.pyplot as plt\n",
    "import warnings\n",
    "import matplotlib.cbook\n",
    "warnings.filterwarnings(\"ignore\",category=matplotlib.cbook.mplDeprecation)\n",
    "%matplotlib inline"
   ]
  },
  {
   "cell_type": "code",
   "execution_count": null,
   "metadata": {
    "pycharm": {
     "name": "#%%\n"
    }
   },
   "outputs": [],
   "source": [
    "# import dictionary of Yahoo Manager Names to Real Life Nicknames\n",
    "with open('../teams/team_mapping_initials.txt', 'r') as f:\n",
    "    dict_init = dict(eval(f.read()))\n",
    "with open('../teams/team_mapping_full.txt', 'r') as f:\n",
    "    dict_full = dict(eval(f.read()))\n",
    "\n",
    "#Need to create mapping between Real Name and Initials, in form of new dictionary\n",
    "dict_full_init = {}\n",
    "for name in dict_full:\n",
    "    dict_full_init[dict_full[name]] = dict_init[name]\n",
    "\n",
    "# names--> manager initials\n",
    "names = ['M1', 'M2', 'M3', 'M4', 'M5', 'M6', 'M7', 'M8', 'M9', 'M10', 'M11', 'M12']\n",
    "#names = dict_init.keys()\n",
    "\n",
    "weeks = ['wk_1', 'wk_2', 'wk_3', 'wk_4', 'wk_5', 'wk_6', 'wk_7', 'wk_8',\n",
    "         'wk_9', 'wk_10', 'wk_11', 'wk_12', 'wk_13', 'wk_14', 'wk_15', 'wk_16']"
   ]
  },
  {
   "cell_type": "code",
   "execution_count": null,
   "metadata": {
    "pycharm": {
     "name": "#%%\n"
    }
   },
   "outputs": [],
   "source": [
    "week = 1\n",
    "df_total_scores = pd.DataFrame()\n",
    "df_total_scores = pd.DataFrame(columns=weeks, index = names)\n",
    "for week in range(1,17):\n",
    "    df_scores = pd.read_csv('./weekly_scores/wk_'+str(week)+'_scores.csv', index_col='Unnamed: 0')\n",
    "    df_scores = df_scores.rename(columns=dict_full_init)\n",
    "    \n",
    "    week_id = 'wk_' + str(week)\n",
    "    #df_total_scores[week_id] = pd.Series()\n",
    "    positions = ['QB', 'WR1', 'WR2', 'WR3', 'RB1', 'RB2', 'TE', 'W/R/T','K', 'DEF']\n",
    "    for manager in df_scores:\n",
    "        df_total_scores.loc[manager, week_id] = df_scores.loc[positions, manager].sum()"
   ]
  },
  {
   "cell_type": "code",
   "execution_count": null,
   "metadata": {
    "pycharm": {
     "name": "#%%\n"
    }
   },
   "outputs": [],
   "source": [
    "#df_total_scores = df_total_scores.reset_index()\n",
    "df_total_scores.replace(0, np.nan, inplace=True)\n",
    "df_total_scores"
   ]
  }
 ],
 "metadata": {
  "kernelspec": {
   "display_name": "Python 3",
   "language": "python",
   "name": "python3"
  },
  "language_info": {
   "codemirror_mode": {
    "name": "ipython",
    "version": 3
   },
   "file_extension": ".py",
   "mimetype": "text/x-python",
   "name": "python",
   "nbconvert_exporter": "python",
   "pygments_lexer": "ipython3",
   "version": "3.6.8"
  },
  "pycharm": {
   "stem_cell": {
    "cell_type": "raw",
    "metadata": {
     "collapsed": false
    },
    "source": []
   }
  }
 },
 "nbformat": 4,
 "nbformat_minor": 2
}
