{
 "cells": [
  {
   "cell_type": "code",
   "execution_count": 10,
   "metadata": {},
   "outputs": [],
   "source": [
    "import pandas as pd\n",
    "from yahoo_oauth import OAuth2\n",
    "import logging\n",
    "oauth_logger = logging.getLogger('yahoo_oauth')\n",
    "oauth_logger.disabled = True\n",
    "import json\n",
    "from json import dumps\n",
    "import datetime"
   ]
  },
  {
   "cell_type": "code",
   "execution_count": 21,
   "metadata": {},
   "outputs": [],
   "source": [
    "oauth = OAuth2(None, None, from_file='./auth/oauth2yahoo.json')\n",
    "if not oauth.token_is_valid():\n",
    "    oauth.refresh_access_token()\n",
    "\n",
    "url = 'https://fantasysports.yahooapis.com/fantasy/v2/game/nfl/' #will return the game id for yahoo fantasy football\n",
    "response = oauth.session.get(url, params={'format': 'json'})\n",
    "r = response.json()\n",
    "\n",
    "with open('YahooGameInfo.json', 'w') as outfile:\n",
    "    json.dump(r, outfile)\n",
    "\n"
   ]
  },
  {
   "cell_type": "code",
   "execution_count": null,
   "metadata": {},
   "outputs": [],
   "source": []
  },
  {
   "cell_type": "code",
   "execution_count": null,
   "metadata": {},
   "outputs": [],
   "source": []
  }
 ],
 "metadata": {
  "kernelspec": {
   "display_name": "Python 3",
   "language": "python",
   "name": "python3"
  },
  "language_info": {
   "codemirror_mode": {
    "name": "ipython",
    "version": 3
   },
   "file_extension": ".py",
   "mimetype": "text/x-python",
   "name": "python",
   "nbconvert_exporter": "python",
   "pygments_lexer": "ipython3",
   "version": "3.6.5"
  }
 },
 "nbformat": 4,
 "nbformat_minor": 2
}
